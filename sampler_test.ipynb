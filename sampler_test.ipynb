{
 "cells": [
  {
   "cell_type": "code",
   "execution_count": 1,
   "metadata": {},
   "outputs": [],
   "source": [
    "import pandas as pd\n",
    "from src.system import System\n",
    "from src.sampler import MCMCSampler\n",
    "from src.model import *\n",
    "from src.priors import *"
   ]
  },
  {
   "cell_type": "code",
   "execution_count": 2,
   "metadata": {},
   "outputs": [
    {
     "data": {
      "text/html": [
       "<div>\n",
       "<style scoped>\n",
       "    .dataframe tbody tr th:only-of-type {\n",
       "        vertical-align: middle;\n",
       "    }\n",
       "\n",
       "    .dataframe tbody tr th {\n",
       "        vertical-align: top;\n",
       "    }\n",
       "\n",
       "    .dataframe thead th {\n",
       "        text-align: right;\n",
       "    }\n",
       "</style>\n",
       "<table border=\"1\" class=\"dataframe\">\n",
       "  <thead>\n",
       "    <tr style=\"text-align: right;\">\n",
       "      <th></th>\n",
       "      <th>App Mag</th>\n",
       "      <th>Errors</th>\n",
       "      <th>Filter</th>\n",
       "    </tr>\n",
       "  </thead>\n",
       "  <tbody>\n",
       "    <tr>\n",
       "      <th>0</th>\n",
       "      <td>13.233</td>\n",
       "      <td>0.1</td>\n",
       "      <td>H</td>\n",
       "    </tr>\n",
       "    <tr>\n",
       "      <th>1</th>\n",
       "      <td>13.401</td>\n",
       "      <td>0.1</td>\n",
       "      <td>J</td>\n",
       "    </tr>\n",
       "  </tbody>\n",
       "</table>\n",
       "</div>"
      ],
      "text/plain": [
       "   App Mag  Errors Filter\n",
       "0   13.233     0.1      H\n",
       "1   13.401     0.1      J"
      ]
     },
     "execution_count": 2,
     "metadata": {},
     "output_type": "execute_result"
    }
   ],
   "source": [
    "df1_data = {'App Mag': [13.233, 13.401], \n",
    "            'Errors': [0.1, 0.1], \n",
    "            'Filter': ['H', 'J']}\n",
    "df1 = pd.DataFrame(df1_data)\n",
    "df1"
   ]
  },
  {
   "cell_type": "code",
   "execution_count": 3,
   "metadata": {},
   "outputs": [
    {
     "name": "stdout",
     "output_type": "stream",
     "text": [
      "[LogUniformPrior(minval=0.2, maxval=1.3), UniformPrior(minval=0, maxval=14180000000.0), GaussianPrior(mu=100, sigma=0.1, no_negatives=True)]\n",
      "100 0.1\n"
     ]
    }
   ],
   "source": [
    "s = System(df1, 100, 0.1)\n",
    "print(s.sys_priors)\n",
    "print(s.plx, s.plx_err)"
   ]
  },
  {
   "cell_type": "code",
   "execution_count": 8,
   "metadata": {},
   "outputs": [],
   "source": [
    "sampler = MCMCSampler(s, num_threads=1, table_type='WD', filters=[\"H\",'J'])"
   ]
  },
  {
   "cell_type": "code",
   "execution_count": 9,
   "metadata": {},
   "outputs": [
    {
     "name": "stdout",
     "output_type": "stream",
     "text": [
      "Starting Burn in\n",
      "[2.93775049e-01 9.34395135e+09 1.00034252e+02] ['H', 'J']\n",
      "[17.28836964 16.87225384]\n",
      "[4.50549225e-01 2.99310679e+09 9.99852041e+01] ['H', 'J']\n",
      "[12.91752537 13.24272051]\n",
      "[3.31322429e-01 1.10168468e+10 9.99994465e+01] ['H', 'J']\n",
      "[18.02556799 17.691043  ]\n",
      "[7.07767281e-01 7.78512482e+09 1.00017990e+02] ['H', 'J']\n",
      "[13.52135423 13.83203711]\n",
      "[4.26424052e-01 2.19456536e+09 9.99901153e+01] ['H', 'J']\n",
      "[12.72203722 13.03706238]\n",
      "[4.22037875e-01 1.25230456e+10 9.99690448e+01] ['H', 'J']\n",
      "[18.51707775 18.21964461]\n",
      "[1.21634827e+00 1.39310800e+10 1.00068059e+02] ['H', 'J']\n"
     ]
    },
    {
     "ename": "ValueError",
     "evalue": "Solar mass input creates invalid bounds",
     "output_type": "error",
     "traceback": [
      "\u001b[1;31m---------------------------------------------------------------------------\u001b[0m",
      "\u001b[1;31mValueError\u001b[0m                                Traceback (most recent call last)",
      "Cell \u001b[1;32mIn[9], line 1\u001b[0m\n\u001b[1;32m----> 1\u001b[0m sampler\u001b[39m.\u001b[39;49mrun_sampler(\u001b[39m100\u001b[39;49m, \u001b[39m0\u001b[39;49m, \u001b[39m1\u001b[39;49m, \u001b[39m\"\u001b[39;49m\u001b[39mtest1.hdf5\u001b[39;49m\u001b[39m\"\u001b[39;49m)\n",
      "File \u001b[1;32mc:\\Users\\ziyya\\Documents\\Uni\\Summer 2022\\AstroROP\\COOLution\\src\\sampler.py:164\u001b[0m, in \u001b[0;36mMCMCSampler.run_sampler\u001b[1;34m(self, num_steps, burn_steps, thin, output_filename)\u001b[0m\n\u001b[0;32m    158\u001b[0m     sampler \u001b[39m=\u001b[39m emcee\u001b[39m.\u001b[39mEnsembleSampler(\n\u001b[0;32m    159\u001b[0m         \u001b[39mself\u001b[39m\u001b[39m.\u001b[39mnum_walkers, \u001b[39mself\u001b[39m\u001b[39m.\u001b[39mnum_params, \u001b[39mself\u001b[39m\u001b[39m.\u001b[39m_logl, pool\u001b[39m=\u001b[39mpool,\n\u001b[0;32m    160\u001b[0m         kwargs\u001b[39m=\u001b[39m{\u001b[39m'\u001b[39m\u001b[39minclude_logp\u001b[39m\u001b[39m'\u001b[39m: \u001b[39mTrue\u001b[39;00m}\n\u001b[0;32m    161\u001b[0m     )\n\u001b[0;32m    163\u001b[0m \u001b[39mprint\u001b[39m(\u001b[39m\"\u001b[39m\u001b[39mStarting Burn in\u001b[39m\u001b[39m\"\u001b[39m)\n\u001b[1;32m--> 164\u001b[0m \u001b[39mfor\u001b[39;00m i, state \u001b[39min\u001b[39;00m \u001b[39menumerate\u001b[39m(sampler\u001b[39m.\u001b[39msample(\u001b[39mself\u001b[39m\u001b[39m.\u001b[39mcurr_pos, iterations\u001b[39m=\u001b[39mburn_steps, thin\u001b[39m=\u001b[39mthin)):\n\u001b[0;32m    165\u001b[0m     \u001b[39mif\u001b[39;00m \u001b[39mself\u001b[39m\u001b[39m.\u001b[39muse_pt:\n\u001b[0;32m    166\u001b[0m         \u001b[39mself\u001b[39m\u001b[39m.\u001b[39mcurr_pos \u001b[39m=\u001b[39m state[\u001b[39m0\u001b[39m]\n",
      "File \u001b[1;32mc:\\Users\\ziyya\\anaconda3\\lib\\site-packages\\ptemcee\\sampler.py:345\u001b[0m, in \u001b[0;36mSampler.sample\u001b[1;34m(self, p0, iterations, thin, storechain, adapt, swap_ratios)\u001b[0m\n\u001b[0;32m    343\u001b[0m \u001b[39m# If we have no likelihood or prior values, compute them.\u001b[39;00m\n\u001b[0;32m    344\u001b[0m \u001b[39mif\u001b[39;00m \u001b[39mself\u001b[39m\u001b[39m.\u001b[39m_logposterior0 \u001b[39mis\u001b[39;00m \u001b[39mNone\u001b[39;00m \u001b[39mor\u001b[39;00m \u001b[39mself\u001b[39m\u001b[39m.\u001b[39m_loglikelihood0 \u001b[39mis\u001b[39;00m \u001b[39mNone\u001b[39;00m:\n\u001b[1;32m--> 345\u001b[0m     logl, logp \u001b[39m=\u001b[39m \u001b[39mself\u001b[39;49m\u001b[39m.\u001b[39;49m_evaluate(p)\n\u001b[0;32m    346\u001b[0m     logpost \u001b[39m=\u001b[39m \u001b[39mself\u001b[39m\u001b[39m.\u001b[39m_tempered_likelihood(logl) \u001b[39m+\u001b[39m logp\n\u001b[0;32m    348\u001b[0m     \u001b[39mself\u001b[39m\u001b[39m.\u001b[39m_loglikelihood0 \u001b[39m=\u001b[39m logl\n",
      "File \u001b[1;32mc:\\Users\\ziyya\\anaconda3\\lib\\site-packages\\ptemcee\\sampler.py:430\u001b[0m, in \u001b[0;36mSampler._evaluate\u001b[1;34m(self, ps)\u001b[0m\n\u001b[0;32m    428\u001b[0m \u001b[39mdef\u001b[39;00m \u001b[39m_evaluate\u001b[39m(\u001b[39mself\u001b[39m, ps):\n\u001b[0;32m    429\u001b[0m     mapf \u001b[39m=\u001b[39m \u001b[39mmap\u001b[39m \u001b[39mif\u001b[39;00m \u001b[39mself\u001b[39m\u001b[39m.\u001b[39mpool \u001b[39mis\u001b[39;00m \u001b[39mNone\u001b[39;00m \u001b[39melse\u001b[39;00m \u001b[39mself\u001b[39m\u001b[39m.\u001b[39mpool\u001b[39m.\u001b[39mmap\n\u001b[1;32m--> 430\u001b[0m     results \u001b[39m=\u001b[39m \u001b[39mlist\u001b[39;49m(mapf(\u001b[39mself\u001b[39;49m\u001b[39m.\u001b[39;49m_likeprior, ps\u001b[39m.\u001b[39;49mreshape((\u001b[39m-\u001b[39;49m\u001b[39m1\u001b[39;49m, \u001b[39mself\u001b[39;49m\u001b[39m.\u001b[39;49mdim))))\n\u001b[0;32m    432\u001b[0m     logl \u001b[39m=\u001b[39m np\u001b[39m.\u001b[39mfromiter((r[\u001b[39m0\u001b[39m] \u001b[39mfor\u001b[39;00m r \u001b[39min\u001b[39;00m results), np\u001b[39m.\u001b[39mfloat,\n\u001b[0;32m    433\u001b[0m                        count\u001b[39m=\u001b[39m\u001b[39mlen\u001b[39m(results))\u001b[39m.\u001b[39mreshape((\u001b[39mself\u001b[39m\u001b[39m.\u001b[39mntemps, \u001b[39m-\u001b[39m\u001b[39m1\u001b[39m))\n\u001b[0;32m    434\u001b[0m     logp \u001b[39m=\u001b[39m np\u001b[39m.\u001b[39mfromiter((r[\u001b[39m1\u001b[39m] \u001b[39mfor\u001b[39;00m r \u001b[39min\u001b[39;00m results), np\u001b[39m.\u001b[39mfloat,\n\u001b[0;32m    435\u001b[0m                        count\u001b[39m=\u001b[39m\u001b[39mlen\u001b[39m(results))\u001b[39m.\u001b[39mreshape((\u001b[39mself\u001b[39m\u001b[39m.\u001b[39mntemps, \u001b[39m-\u001b[39m\u001b[39m1\u001b[39m))\n",
      "File \u001b[1;32mc:\\Users\\ziyya\\anaconda3\\lib\\site-packages\\ptemcee\\sampler.py:137\u001b[0m, in \u001b[0;36mLikePriorEvaluator.__call__\u001b[1;34m(self, x)\u001b[0m\n\u001b[0;32m    135\u001b[0m     ll \u001b[39m=\u001b[39m \u001b[39m0\u001b[39m\n\u001b[0;32m    136\u001b[0m \u001b[39melse\u001b[39;00m:\n\u001b[1;32m--> 137\u001b[0m     ll \u001b[39m=\u001b[39m \u001b[39mself\u001b[39;49m\u001b[39m.\u001b[39;49mlogl(x, \u001b[39m*\u001b[39;49m\u001b[39mself\u001b[39;49m\u001b[39m.\u001b[39;49mloglargs, \u001b[39m*\u001b[39;49m\u001b[39m*\u001b[39;49m\u001b[39mself\u001b[39;49m\u001b[39m.\u001b[39;49mloglkwargs)\n\u001b[0;32m    138\u001b[0m     \u001b[39mif\u001b[39;00m np\u001b[39m.\u001b[39misnan(ll)\u001b[39m.\u001b[39many():\n\u001b[0;32m    139\u001b[0m         \u001b[39mraise\u001b[39;00m \u001b[39mValueError\u001b[39;00m(\u001b[39m'\u001b[39m\u001b[39mLog likelihood function returned NaN.\u001b[39m\u001b[39m'\u001b[39m)\n",
      "File \u001b[1;32mc:\\Users\\ziyya\\Documents\\Uni\\Summer 2022\\AstroROP\\COOLution\\src\\sampler.py:92\u001b[0m, in \u001b[0;36mMCMCSampler._logl\u001b[1;34m(self, params, include_logp)\u001b[0m\n\u001b[0;32m     89\u001b[0m errors \u001b[39m=\u001b[39m \u001b[39mself\u001b[39m\u001b[39m.\u001b[39msystem\u001b[39m.\u001b[39mdata_table[\u001b[39m\"\u001b[39m\u001b[39mErrors\u001b[39m\u001b[39m\"\u001b[39m]\u001b[39m.\u001b[39mto_numpy()\n\u001b[0;32m     90\u001b[0m \u001b[39mprint\u001b[39m(params, filts)\n\u001b[1;32m---> 92\u001b[0m modelr \u001b[39m=\u001b[39m model\u001b[39m.\u001b[39;49mfindMags(\u001b[39mself\u001b[39;49m\u001b[39m.\u001b[39;49mmodel_table, params[\u001b[39m0\u001b[39;49m], params[\u001b[39m1\u001b[39;49m], params[\u001b[39m2\u001b[39;49m], filts)\n\u001b[0;32m     93\u001b[0m \u001b[39mprint\u001b[39m(modelr)\n\u001b[0;32m     94\u001b[0m logl \u001b[39m=\u001b[39m model\u001b[39m.\u001b[39mchi_squared(modelr, data, errors)\n",
      "File \u001b[1;32mc:\\Users\\ziyya\\Documents\\Uni\\Summer 2022\\AstroROP\\COOLution\\src\\model.py:91\u001b[0m, in \u001b[0;36mfindMags\u001b[1;34m(mdf, solar_m, age, parallax, filters)\u001b[0m\n\u001b[0;32m     89\u001b[0m \u001b[39m# Checks the solar mass range\u001b[39;00m\n\u001b[0;32m     90\u001b[0m \u001b[39mif\u001b[39;00m (mbounds[\u001b[39m1\u001b[39m] \u001b[39m>\u001b[39m \u001b[39m1.2\u001b[39m) \u001b[39mor\u001b[39;00m (mbounds[\u001b[39m0\u001b[39m] \u001b[39m<\u001b[39m \u001b[39m0.2\u001b[39m):\n\u001b[1;32m---> 91\u001b[0m     \u001b[39mraise\u001b[39;00m \u001b[39mValueError\u001b[39;00m(\u001b[39m\"\u001b[39m\u001b[39mSolar mass input creates invalid bounds\u001b[39m\u001b[39m\"\u001b[39m)\n\u001b[0;32m     93\u001b[0m \u001b[39m# Outer loop runs twice only\u001b[39;00m\n\u001b[0;32m     94\u001b[0m \u001b[39mfor\u001b[39;00m m \u001b[39min\u001b[39;00m \u001b[39mrange\u001b[39m(\u001b[39mlen\u001b[39m(mbounds)):\n\u001b[0;32m     95\u001b[0m     \u001b[39m# Make sub dataframe for specific mass\u001b[39;00m\n",
      "\u001b[1;31mValueError\u001b[0m: Solar mass input creates invalid bounds"
     ]
    }
   ],
   "source": [
    "sampler.run_sampler(100, 0, 1, \"test1.hdf5\")"
   ]
  },
  {
   "cell_type": "code",
   "execution_count": null,
   "metadata": {},
   "outputs": [
    {
     "data": {
      "text/plain": [
       "array([13.233, 13.401])"
      ]
     },
     "execution_count": 8,
     "metadata": {},
     "output_type": "execute_result"
    }
   ],
   "source": [
    "test_params = np.array([2.17289824e-01, 1.36642406e+10, 9.99720353e+01])\n",
    "df1[\"App Mag\"]\n",
    "\n",
    "#findMags(df1, test_params[0], test_params[1], test_params[2], filts)"
   ]
  },
  {
   "cell_type": "code",
   "execution_count": null,
   "metadata": {},
   "outputs": [],
   "source": []
  }
 ],
 "metadata": {
  "kernelspec": {
   "display_name": "Python 3",
   "language": "python",
   "name": "python3"
  },
  "language_info": {
   "codemirror_mode": {
    "name": "ipython",
    "version": 3
   },
   "file_extension": ".py",
   "mimetype": "text/x-python",
   "name": "python",
   "nbconvert_exporter": "python",
   "pygments_lexer": "ipython3",
   "version": "3.8.13"
  },
  "orig_nbformat": 4,
  "vscode": {
   "interpreter": {
    "hash": "c5e80eea01e7eb6bdc0957872f536a4dc60ca06ddcd40bef2c4a2df7b02017ae"
   }
  }
 },
 "nbformat": 4,
 "nbformat_minor": 2
}
